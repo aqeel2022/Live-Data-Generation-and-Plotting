{
 "cells": [
  {
   "cell_type": "markdown",
   "metadata": {},
   "source": [
    "# Data generation ---> Live"
   ]
  },
  {
   "cell_type": "code",
   "execution_count": 3,
   "metadata": {},
   "outputs": [],
   "source": [
    "import csv\n",
    "import random\n",
    "import time as timer"
   ]
  },
  {
   "cell_type": "code",
   "execution_count": 4,
   "metadata": {},
   "outputs": [
    {
     "name": "stdout",
     "output_type": "stream",
     "text": [
      "0 20 20\n",
      "1 19 22\n",
      "2 19 22\n",
      "3 15 17\n",
      "4 21 16\n",
      "5 23 21\n",
      "6 25 23\n",
      "7 24 26\n",
      "8 19 31\n",
      "9 21 30\n",
      "10 24 28\n",
      "11 18 34\n",
      "12 14 37\n",
      "13 17 32\n",
      "14 22 37\n",
      "15 25 39\n",
      "16 29 44\n",
      "17 27 50\n",
      "18 23 47\n",
      "19 22 49\n",
      "20 21 46\n",
      "21 28 42\n",
      "22 32 43\n",
      "23 28 38\n",
      "24 28 39\n",
      "25 32 40\n",
      "26 30 44\n",
      "27 28 46\n",
      "28 30 51\n",
      "29 31 56\n",
      "30 31 59\n",
      "31 26 59\n",
      "32 29 62\n",
      "33 23 59\n",
      "34 19 58\n",
      "35 27 60\n",
      "36 27 64\n",
      "37 25 65\n",
      "38 30 68\n",
      "39 31 64\n",
      "40 25 69\n",
      "41 28 72\n",
      "42 25 74\n",
      "43 31 79\n",
      "44 28 77\n",
      "45 36 77\n",
      "46 39 81\n",
      "47 37 84\n",
      "48 36 85\n",
      "49 37 84\n",
      "50 39 81\n",
      "Total time consumption 51.42 seconds\n"
     ]
    }
   ],
   "source": [
    "start = timer.time()\n",
    "x_value = 0\n",
    "total_1 = 20\n",
    "total_2 = 20\n",
    "\n",
    "fieldnames = [\"x_value\", \"total_1\", \"total_2\"]\n",
    "\n",
    "\n",
    "with open('data.csv', 'w') as csv_file:\n",
    "    csv_writer = csv.DictWriter(csv_file, fieldnames=fieldnames)\n",
    "    csv_writer.writeheader()\n",
    "\n",
    "while x_value<=50:\n",
    "\n",
    "    with open('data.csv', 'a') as csv_file:\n",
    "        csv_writer = csv.DictWriter(csv_file, fieldnames=fieldnames)\n",
    "\n",
    "        info = {\n",
    "            \"x_value\": x_value,\n",
    "            \"total_1\": total_1,\n",
    "            \"total_2\": total_2\n",
    "        }\n",
    "\n",
    "        csv_writer.writerow(info)\n",
    "        print(x_value, total_1, total_2)\n",
    "\n",
    "        x_value += 1\n",
    "        total_1 = total_1 + random.randint(-6, 8)\n",
    "        total_2 = total_2 + random.randint(-5, 6)\n",
    "\n",
    "    time.sleep(1)\n",
    "    end = timer.time()\n",
    "print(\"Total time consumption {:.2f} seconds\".format(end-start))\n"
   ]
  },
  {
   "cell_type": "code",
   "execution_count": null,
   "metadata": {},
   "outputs": [],
   "source": []
  }
 ],
 "metadata": {
  "kernelspec": {
   "display_name": "Python 3",
   "language": "python",
   "name": "python3"
  },
  "language_info": {
   "codemirror_mode": {
    "name": "ipython",
    "version": 3
   },
   "file_extension": ".py",
   "mimetype": "text/x-python",
   "name": "python",
   "nbconvert_exporter": "python",
   "pygments_lexer": "ipython3",
   "version": "3.8.5"
  }
 },
 "nbformat": 4,
 "nbformat_minor": 4
}
